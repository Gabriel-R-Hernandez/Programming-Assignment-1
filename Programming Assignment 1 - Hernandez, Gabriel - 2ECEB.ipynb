{
 "cells": [
  {
   "cell_type": "code",
   "execution_count": 11,
   "id": "b057f0a0-b4dd-4006-8cb1-7b1422179beb",
   "metadata": {},
   "outputs": [
    {
     "name": "stdout",
     "output_type": "stream",
     "text": [
      "ehllo\n",
      "acehkr\n"
     ]
    }
   ],
   "source": [
    "#defining the name of the function (alphabet soup)\n",
    "def alphabet_soup(word: str) -> str:\n",
    "    \n",
    "    # Sort the characters of the word and join them back\n",
    "    return ''.join(sorted(word))\n",
    "\n",
    "# Examples\n",
    "print(alphabet_soup(\"hello\"))   #ehllo\n",
    "print(alphabet_soup(\"hacker\"))  #acehkr"
   ]
  },
  {
   "cell_type": "code",
   "execution_count": 12,
   "id": "118a9f8e-ea06-4e2e-90de-4e3e89b8fbde",
   "metadata": {},
   "outputs": [
    {
     "name": "stdout",
     "output_type": "stream",
     "text": [
      "Make me :)\n",
      "I am >:(\n"
     ]
    }
   ],
   "source": [
    "#defining the function (emotify)\n",
    "def emotify(sentence: str) -> str:\n",
    "    #adding the corresponding emoji\n",
    "    emoticons = {\n",
    "        \"smile\": \":)\",\n",
    "        \"grin\": \":D\",\n",
    "        \"sad\": \":(\",\n",
    "        \"mad\": \">:(\" }\n",
    "    \n",
    "    words = sentence.split()  # split sentence into words\n",
    "    result = []\n",
    "\n",
    "    for word in words:\n",
    "        # replace if the word matches\n",
    "        result.append(emoticons.get(word, word))\n",
    "    \n",
    "    return \" \".join(result)\n",
    "\n",
    "# Examples\n",
    "print(emotify(\"Make me smile\"))  # Make me :)\n",
    "print(emotify(\"I am mad\"))       # I am >:("
   ]
  },
  {
   "cell_type": "code",
   "execution_count": 13,
   "id": "2438c65c-4784-451f-b4c0-6350b22a94da",
   "metadata": {},
   "outputs": [
    {
     "name": "stdout",
     "output_type": "stream",
     "text": [
      "first: 1\n",
      "middle: [2, 3, 4, 5]\n",
      "last: 6\n"
     ]
    }
   ],
   "source": [
    "# add the list\n",
    "lst = [1, 2, 3, 4, 5, 6]\n",
    "\n",
    "# identifying first, middle, last\n",
    "first, *middle, last = lst\n",
    "\n",
    "# Print results\n",
    "print(\"first:\", first)\n",
    "print(\"middle:\", middle)\n",
    "print(\"last:\", last)"
   ]
  }
 ],
 "metadata": {
  "kernelspec": {
   "display_name": "Python [conda env:base] *",
   "language": "python",
   "name": "conda-base-py"
  },
  "language_info": {
   "codemirror_mode": {
    "name": "ipython",
    "version": 3
   },
   "file_extension": ".py",
   "mimetype": "text/x-python",
   "name": "python",
   "nbconvert_exporter": "python",
   "pygments_lexer": "ipython3",
   "version": "3.13.5"
  }
 },
 "nbformat": 4,
 "nbformat_minor": 5
}
